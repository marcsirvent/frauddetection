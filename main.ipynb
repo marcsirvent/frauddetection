{
 "cells": [
  {
   "cell_type": "code",
   "execution_count": 10,
   "metadata": {},
   "outputs": [],
   "source": [
    "import pandas as pd\n",
    "import os\n",
    "import seaborn as sns\n",
    "import matplotlib.pyplot as plt"
   ]
  },
  {
   "cell_type": "code",
   "execution_count": 11,
   "metadata": {},
   "outputs": [],
   "source": [
    "CARDS_DATASET = \"cards_data.csv\"\n",
    "MCC_CODES_DATASET = \"mcc_codes.json\"\n",
    "TRAIN_FRAUD_LABELS = \"train_fraud_labels.json\"\n",
    "TRANSACTIONS_DATASET = \"transactions_data.csv\"\n",
    "USERS_DATASET = \"users_data.csv\"\n",
    "\n",
    "global_path = './data/'\n",
    "cards_df = pd.read_csv(global_path + CARDS_DATASET)\n",
    "mcc_codes_df = pd.read_json(global_path + MCC_CODES_DATASET, typ='series')\n",
    "train_fraud_labels_df = pd.read_json(global_path + TRAIN_FRAUD_LABELS)\n",
    "transactions_df = pd.read_csv(global_path + TRANSACTIONS_DATASET)\n",
    "users_df = pd.read_csv(global_path + USERS_DATASET)"
   ]
  },
  {
   "cell_type": "code",
   "execution_count": 12,
   "metadata": {},
   "outputs": [
    {
     "name": "stdout",
     "output_type": "stream",
     "text": [
      "CARDS_DATASET\n"
     ]
    },
    {
     "ename": "ModuleNotFoundError",
     "evalue": "No module named 'pandas.io.formats.string'",
     "output_type": "error",
     "traceback": [
      "\u001b[0;31m---------------------------------------------------------------------------\u001b[0m",
      "\u001b[0;31mModuleNotFoundError\u001b[0m                       Traceback (most recent call last)",
      "File \u001b[0;32m~/University/VISUAL ANALYTIC/FINALPROJECT/frauddetection/environment/lib/python3.12/site-packages/IPython/core/formatters.py:770\u001b[0m, in \u001b[0;36m__call__\u001b[0;34m(self, obj)\u001b[0m\n",
      "File \u001b[0;32m~/University/VISUAL ANALYTIC/FINALPROJECT/frauddetection/environment/lib/python3.12/site-packages/IPython/lib/pretty.py:419\u001b[0m, in \u001b[0;36mpretty\u001b[0;34m(self, obj)\u001b[0m\n",
      "File \u001b[0;32m~/University/VISUAL ANALYTIC/FINALPROJECT/frauddetection/environment/lib/python3.12/site-packages/IPython/lib/pretty.py:794\u001b[0m, in \u001b[0;36m_repr_pprint\u001b[0;34m(obj, p, cycle)\u001b[0m\n",
      "File \u001b[0;32m~/University/VISUAL ANALYTIC/FINALPROJECT/frauddetection/environment/lib/python3.12/site-packages/pandas/core/frame.py:1214\u001b[0m, in \u001b[0;36m__repr__\u001b[0;34m(self)\u001b[0m\n",
      "File \u001b[0;32m~/University/VISUAL ANALYTIC/FINALPROJECT/frauddetection/environment/lib/python3.12/site-packages/pandas/util/_decorators.py:333\u001b[0m, in \u001b[0;36mwrapper\u001b[0;34m(*args, **kwargs)\u001b[0m\n",
      "File \u001b[0;32m~/University/VISUAL ANALYTIC/FINALPROJECT/frauddetection/environment/lib/python3.12/site-packages/pandas/core/frame.py:1394\u001b[0m, in \u001b[0;36mto_string\u001b[0;34m(self, buf, columns, col_space, header, index, na_rep, formatters, float_format, sparsify, index_names, justify, max_rows, max_cols, show_dimensions, decimal, line_width, min_rows, max_colwidth, encoding)\u001b[0m\n",
      "File \u001b[0;32m~/University/VISUAL ANALYTIC/FINALPROJECT/frauddetection/environment/lib/python3.12/site-packages/pandas/io/formats/format.py:959\u001b[0m, in \u001b[0;36mto_string\u001b[0;34m(self, buf, encoding, line_width)\u001b[0m\n",
      "\u001b[0;31mModuleNotFoundError\u001b[0m: No module named 'pandas.io.formats.string'"
     ]
    },
    {
     "ename": "ModuleNotFoundError",
     "evalue": "No module named 'pandas.io.formats.html'",
     "output_type": "error",
     "traceback": [
      "\u001b[0;31m---------------------------------------------------------------------------\u001b[0m",
      "\u001b[0;31mModuleNotFoundError\u001b[0m                       Traceback (most recent call last)",
      "File \u001b[0;32m~/University/VISUAL ANALYTIC/FINALPROJECT/frauddetection/environment/lib/python3.12/site-packages/IPython/core/formatters.py:406\u001b[0m, in \u001b[0;36m__call__\u001b[0;34m(self, obj)\u001b[0m\n",
      "File \u001b[0;32m~/University/VISUAL ANALYTIC/FINALPROJECT/frauddetection/environment/lib/python3.12/site-packages/pandas/core/frame.py:1256\u001b[0m, in \u001b[0;36m_repr_html_\u001b[0;34m(self)\u001b[0m\n",
      "File \u001b[0;32m~/University/VISUAL ANALYTIC/FINALPROJECT/frauddetection/environment/lib/python3.12/site-packages/pandas/io/formats/format.py:922\u001b[0m, in \u001b[0;36mto_html\u001b[0;34m(self, buf, encoding, classes, notebook, border, table_id, render_links)\u001b[0m\n",
      "\u001b[0;31mModuleNotFoundError\u001b[0m: No module named 'pandas.io.formats.html'"
     ]
    },
    {
     "name": "stdout",
     "output_type": "stream",
     "text": [
      "\n",
      "MCC_CODES_DATASET\n"
     ]
    },
    {
     "data": {
      "text/plain": [
       "5812           Eating Places and Restaurants\n",
       "5541                        Service Stations\n",
       "7996    Amusement Parks, Carnivals, Circuses\n",
       "5411            Grocery Stores, Supermarkets\n",
       "4784                   Tolls and Bridge Fees\n",
       "dtype: object"
      ]
     },
     "metadata": {},
     "output_type": "display_data"
    },
    {
     "name": "stdout",
     "output_type": "stream",
     "text": [
      "\n",
      "TRAIN_FRAUD_LABELS\n"
     ]
    },
    {
     "ename": "ModuleNotFoundError",
     "evalue": "No module named 'pandas.io.formats.string'",
     "output_type": "error",
     "traceback": [
      "\u001b[0;31m---------------------------------------------------------------------------\u001b[0m",
      "\u001b[0;31mModuleNotFoundError\u001b[0m                       Traceback (most recent call last)",
      "File \u001b[0;32m~/University/VISUAL ANALYTIC/FINALPROJECT/frauddetection/environment/lib/python3.12/site-packages/IPython/core/formatters.py:770\u001b[0m, in \u001b[0;36m__call__\u001b[0;34m(self, obj)\u001b[0m\n",
      "File \u001b[0;32m~/University/VISUAL ANALYTIC/FINALPROJECT/frauddetection/environment/lib/python3.12/site-packages/IPython/lib/pretty.py:419\u001b[0m, in \u001b[0;36mpretty\u001b[0;34m(self, obj)\u001b[0m\n",
      "File \u001b[0;32m~/University/VISUAL ANALYTIC/FINALPROJECT/frauddetection/environment/lib/python3.12/site-packages/IPython/lib/pretty.py:794\u001b[0m, in \u001b[0;36m_repr_pprint\u001b[0;34m(obj, p, cycle)\u001b[0m\n",
      "File \u001b[0;32m~/University/VISUAL ANALYTIC/FINALPROJECT/frauddetection/environment/lib/python3.12/site-packages/pandas/core/frame.py:1214\u001b[0m, in \u001b[0;36m__repr__\u001b[0;34m(self)\u001b[0m\n",
      "File \u001b[0;32m~/University/VISUAL ANALYTIC/FINALPROJECT/frauddetection/environment/lib/python3.12/site-packages/pandas/util/_decorators.py:333\u001b[0m, in \u001b[0;36mwrapper\u001b[0;34m(*args, **kwargs)\u001b[0m\n",
      "File \u001b[0;32m~/University/VISUAL ANALYTIC/FINALPROJECT/frauddetection/environment/lib/python3.12/site-packages/pandas/core/frame.py:1394\u001b[0m, in \u001b[0;36mto_string\u001b[0;34m(self, buf, columns, col_space, header, index, na_rep, formatters, float_format, sparsify, index_names, justify, max_rows, max_cols, show_dimensions, decimal, line_width, min_rows, max_colwidth, encoding)\u001b[0m\n",
      "File \u001b[0;32m~/University/VISUAL ANALYTIC/FINALPROJECT/frauddetection/environment/lib/python3.12/site-packages/pandas/io/formats/format.py:959\u001b[0m, in \u001b[0;36mto_string\u001b[0;34m(self, buf, encoding, line_width)\u001b[0m\n",
      "\u001b[0;31mModuleNotFoundError\u001b[0m: No module named 'pandas.io.formats.string'"
     ]
    },
    {
     "ename": "ModuleNotFoundError",
     "evalue": "No module named 'pandas.io.formats.html'",
     "output_type": "error",
     "traceback": [
      "\u001b[0;31m---------------------------------------------------------------------------\u001b[0m",
      "\u001b[0;31mModuleNotFoundError\u001b[0m                       Traceback (most recent call last)",
      "File \u001b[0;32m~/University/VISUAL ANALYTIC/FINALPROJECT/frauddetection/environment/lib/python3.12/site-packages/IPython/core/formatters.py:406\u001b[0m, in \u001b[0;36m__call__\u001b[0;34m(self, obj)\u001b[0m\n",
      "File \u001b[0;32m~/University/VISUAL ANALYTIC/FINALPROJECT/frauddetection/environment/lib/python3.12/site-packages/pandas/core/frame.py:1256\u001b[0m, in \u001b[0;36m_repr_html_\u001b[0;34m(self)\u001b[0m\n",
      "File \u001b[0;32m~/University/VISUAL ANALYTIC/FINALPROJECT/frauddetection/environment/lib/python3.12/site-packages/pandas/io/formats/format.py:922\u001b[0m, in \u001b[0;36mto_html\u001b[0;34m(self, buf, encoding, classes, notebook, border, table_id, render_links)\u001b[0m\n",
      "\u001b[0;31mModuleNotFoundError\u001b[0m: No module named 'pandas.io.formats.html'"
     ]
    },
    {
     "name": "stdout",
     "output_type": "stream",
     "text": [
      "\n",
      "TRANSACTIONS_DATASET\n"
     ]
    },
    {
     "ename": "ModuleNotFoundError",
     "evalue": "No module named 'pandas.io.formats.string'",
     "output_type": "error",
     "traceback": [
      "\u001b[0;31m---------------------------------------------------------------------------\u001b[0m",
      "\u001b[0;31mModuleNotFoundError\u001b[0m                       Traceback (most recent call last)",
      "File \u001b[0;32m~/University/VISUAL ANALYTIC/FINALPROJECT/frauddetection/environment/lib/python3.12/site-packages/IPython/core/formatters.py:770\u001b[0m, in \u001b[0;36m__call__\u001b[0;34m(self, obj)\u001b[0m\n",
      "File \u001b[0;32m~/University/VISUAL ANALYTIC/FINALPROJECT/frauddetection/environment/lib/python3.12/site-packages/IPython/lib/pretty.py:419\u001b[0m, in \u001b[0;36mpretty\u001b[0;34m(self, obj)\u001b[0m\n",
      "File \u001b[0;32m~/University/VISUAL ANALYTIC/FINALPROJECT/frauddetection/environment/lib/python3.12/site-packages/IPython/lib/pretty.py:794\u001b[0m, in \u001b[0;36m_repr_pprint\u001b[0;34m(obj, p, cycle)\u001b[0m\n",
      "File \u001b[0;32m~/University/VISUAL ANALYTIC/FINALPROJECT/frauddetection/environment/lib/python3.12/site-packages/pandas/core/frame.py:1214\u001b[0m, in \u001b[0;36m__repr__\u001b[0;34m(self)\u001b[0m\n",
      "File \u001b[0;32m~/University/VISUAL ANALYTIC/FINALPROJECT/frauddetection/environment/lib/python3.12/site-packages/pandas/util/_decorators.py:333\u001b[0m, in \u001b[0;36mwrapper\u001b[0;34m(*args, **kwargs)\u001b[0m\n",
      "File \u001b[0;32m~/University/VISUAL ANALYTIC/FINALPROJECT/frauddetection/environment/lib/python3.12/site-packages/pandas/core/frame.py:1394\u001b[0m, in \u001b[0;36mto_string\u001b[0;34m(self, buf, columns, col_space, header, index, na_rep, formatters, float_format, sparsify, index_names, justify, max_rows, max_cols, show_dimensions, decimal, line_width, min_rows, max_colwidth, encoding)\u001b[0m\n",
      "File \u001b[0;32m~/University/VISUAL ANALYTIC/FINALPROJECT/frauddetection/environment/lib/python3.12/site-packages/pandas/io/formats/format.py:959\u001b[0m, in \u001b[0;36mto_string\u001b[0;34m(self, buf, encoding, line_width)\u001b[0m\n",
      "\u001b[0;31mModuleNotFoundError\u001b[0m: No module named 'pandas.io.formats.string'"
     ]
    },
    {
     "ename": "ModuleNotFoundError",
     "evalue": "No module named 'pandas.io.formats.html'",
     "output_type": "error",
     "traceback": [
      "\u001b[0;31m---------------------------------------------------------------------------\u001b[0m",
      "\u001b[0;31mModuleNotFoundError\u001b[0m                       Traceback (most recent call last)",
      "File \u001b[0;32m~/University/VISUAL ANALYTIC/FINALPROJECT/frauddetection/environment/lib/python3.12/site-packages/IPython/core/formatters.py:406\u001b[0m, in \u001b[0;36m__call__\u001b[0;34m(self, obj)\u001b[0m\n",
      "File \u001b[0;32m~/University/VISUAL ANALYTIC/FINALPROJECT/frauddetection/environment/lib/python3.12/site-packages/pandas/core/frame.py:1256\u001b[0m, in \u001b[0;36m_repr_html_\u001b[0;34m(self)\u001b[0m\n",
      "File \u001b[0;32m~/University/VISUAL ANALYTIC/FINALPROJECT/frauddetection/environment/lib/python3.12/site-packages/pandas/io/formats/format.py:922\u001b[0m, in \u001b[0;36mto_html\u001b[0;34m(self, buf, encoding, classes, notebook, border, table_id, render_links)\u001b[0m\n",
      "\u001b[0;31mModuleNotFoundError\u001b[0m: No module named 'pandas.io.formats.html'"
     ]
    },
    {
     "name": "stdout",
     "output_type": "stream",
     "text": [
      "\n",
      "USERS_DATASET\n"
     ]
    },
    {
     "ename": "ModuleNotFoundError",
     "evalue": "No module named 'pandas.io.formats.string'",
     "output_type": "error",
     "traceback": [
      "\u001b[0;31m---------------------------------------------------------------------------\u001b[0m",
      "\u001b[0;31mModuleNotFoundError\u001b[0m                       Traceback (most recent call last)",
      "File \u001b[0;32m~/University/VISUAL ANALYTIC/FINALPROJECT/frauddetection/environment/lib/python3.12/site-packages/IPython/core/formatters.py:770\u001b[0m, in \u001b[0;36m__call__\u001b[0;34m(self, obj)\u001b[0m\n",
      "File \u001b[0;32m~/University/VISUAL ANALYTIC/FINALPROJECT/frauddetection/environment/lib/python3.12/site-packages/IPython/lib/pretty.py:419\u001b[0m, in \u001b[0;36mpretty\u001b[0;34m(self, obj)\u001b[0m\n",
      "File \u001b[0;32m~/University/VISUAL ANALYTIC/FINALPROJECT/frauddetection/environment/lib/python3.12/site-packages/IPython/lib/pretty.py:794\u001b[0m, in \u001b[0;36m_repr_pprint\u001b[0;34m(obj, p, cycle)\u001b[0m\n",
      "File \u001b[0;32m~/University/VISUAL ANALYTIC/FINALPROJECT/frauddetection/environment/lib/python3.12/site-packages/pandas/core/frame.py:1214\u001b[0m, in \u001b[0;36m__repr__\u001b[0;34m(self)\u001b[0m\n",
      "File \u001b[0;32m~/University/VISUAL ANALYTIC/FINALPROJECT/frauddetection/environment/lib/python3.12/site-packages/pandas/util/_decorators.py:333\u001b[0m, in \u001b[0;36mwrapper\u001b[0;34m(*args, **kwargs)\u001b[0m\n",
      "File \u001b[0;32m~/University/VISUAL ANALYTIC/FINALPROJECT/frauddetection/environment/lib/python3.12/site-packages/pandas/core/frame.py:1394\u001b[0m, in \u001b[0;36mto_string\u001b[0;34m(self, buf, columns, col_space, header, index, na_rep, formatters, float_format, sparsify, index_names, justify, max_rows, max_cols, show_dimensions, decimal, line_width, min_rows, max_colwidth, encoding)\u001b[0m\n",
      "File \u001b[0;32m~/University/VISUAL ANALYTIC/FINALPROJECT/frauddetection/environment/lib/python3.12/site-packages/pandas/io/formats/format.py:959\u001b[0m, in \u001b[0;36mto_string\u001b[0;34m(self, buf, encoding, line_width)\u001b[0m\n",
      "\u001b[0;31mModuleNotFoundError\u001b[0m: No module named 'pandas.io.formats.string'"
     ]
    },
    {
     "ename": "ModuleNotFoundError",
     "evalue": "No module named 'pandas.io.formats.html'",
     "output_type": "error",
     "traceback": [
      "\u001b[0;31m---------------------------------------------------------------------------\u001b[0m",
      "\u001b[0;31mModuleNotFoundError\u001b[0m                       Traceback (most recent call last)",
      "File \u001b[0;32m~/University/VISUAL ANALYTIC/FINALPROJECT/frauddetection/environment/lib/python3.12/site-packages/IPython/core/formatters.py:406\u001b[0m, in \u001b[0;36m__call__\u001b[0;34m(self, obj)\u001b[0m\n",
      "File \u001b[0;32m~/University/VISUAL ANALYTIC/FINALPROJECT/frauddetection/environment/lib/python3.12/site-packages/pandas/core/frame.py:1256\u001b[0m, in \u001b[0;36m_repr_html_\u001b[0;34m(self)\u001b[0m\n",
      "File \u001b[0;32m~/University/VISUAL ANALYTIC/FINALPROJECT/frauddetection/environment/lib/python3.12/site-packages/pandas/io/formats/format.py:922\u001b[0m, in \u001b[0;36mto_html\u001b[0;34m(self, buf, encoding, classes, notebook, border, table_id, render_links)\u001b[0m\n",
      "\u001b[0;31mModuleNotFoundError\u001b[0m: No module named 'pandas.io.formats.html'"
     ]
    }
   ],
   "source": [
    "print(\"CARDS_DATASET\")\n",
    "display(cards_df.head())\n",
    "\n",
    "print(\"\\nMCC_CODES_DATASET\")\n",
    "display(mcc_codes_df.head())\n",
    "\n",
    "print(\"\\nTRAIN_FRAUD_LABELS\")\n",
    "display(train_fraud_labels_df.head())\n",
    "\n",
    "print(\"\\nTRANSACTIONS_DATASET\")\n",
    "display(transactions_df.head())\n",
    "\n",
    "print(\"\\nUSERS_DATASET\")\n",
    "display(users_df.head())"
   ]
  },
  {
   "cell_type": "code",
   "execution_count": null,
   "metadata": {},
   "outputs": [],
   "source": [
    "column1 = transactions_df[transactions_df['id'] == 12478022]\n",
    "column2 = train_fraud_labels_df[train_fraud_labels_df.index == 12478022]\n",
    "display(column1)\n",
    "display(column2)"
   ]
  },
  {
   "cell_type": "code",
   "execution_count": null,
   "metadata": {},
   "outputs": [],
   "source": [
    "transactions_df.isna().sum()"
   ]
  },
  {
   "cell_type": "code",
   "execution_count": null,
   "metadata": {},
   "outputs": [],
   "source": [
    "users_df['gender_encoded'] = users_df['gender'].map({'Female': 0, 'Male': 1})\n",
    "users_df.head()"
   ]
  },
  {
   "cell_type": "code",
   "execution_count": null,
   "metadata": {},
   "outputs": [],
   "source": [
    "columns_to_clean = ['per_capita_income', 'yearly_income', 'total_debt']\n",
    "\n",
    "for column in columns_to_clean:\n",
    "    users_df[column] = users_df[column].str.replace('[\\$,]', '', regex=True)  # Remove $ and ,\n",
    "    users_df[column] = pd.to_numeric(users_df[column])\n",
    "\n",
    "users_df.head()"
   ]
  },
  {
   "cell_type": "code",
   "execution_count": null,
   "metadata": {},
   "outputs": [],
   "source": [
    "plt.figure(figsize=(10, 6))\n",
    "\n",
    "sns.histplot(data=users_df[users_df[\"gender_encoded\"]==1], x='yearly_income', bins=40, color='blue', alpha=0.3, label='Gender Male', stat='density')\n",
    "\n",
    "sns.histplot(data=users_df[users_df[\"gender_encoded\"] == 0], x='yearly_income', bins=40, color='red', alpha=0.3, label='Gender Female', stat='density')\n",
    "plt.legend()\n",
    "\n",
    "plt.title('Histogram for Gender')\n",
    "plt.xlabel('Yearly Income')\n",
    "plt.ylabel('Frequency')\n",
    "plt.show()"
   ]
  },
  {
   "cell_type": "code",
   "execution_count": null,
   "metadata": {},
   "outputs": [],
   "source": [
    "sns.histplot(data=users_df, x='current_age', bins=20, kde=True)\n",
    "plt.title('Histogram with KDE')\n",
    "plt.show()"
   ]
  }
 ],
 "metadata": {
  "kernelspec": {
   "display_name": "environment",
   "language": "python",
   "name": "python3"
  },
  "language_info": {
   "codemirror_mode": {
    "name": "ipython",
    "version": 3
   },
   "file_extension": ".py",
   "mimetype": "text/x-python",
   "name": "python",
   "nbconvert_exporter": "python",
   "pygments_lexer": "ipython3",
   "version": "3.12.4"
  }
 },
 "nbformat": 4,
 "nbformat_minor": 2
}
